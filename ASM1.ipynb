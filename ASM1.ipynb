{
  "nbformat": 4,
  "nbformat_minor": 0,
  "metadata": {
    "colab": {
      "provenance": []
    },
    "kernelspec": {
      "name": "python3",
      "display_name": "Python 3"
    },
    "language_info": {
      "name": "python"
    }
  },
  "cells": [
    {
      "cell_type": "code",
      "execution_count": 2,
      "metadata": {
        "colab": {
          "base_uri": "https://localhost:8080/"
        },
        "id": "yMKE3uYYKfYa",
        "outputId": "7fba36e2-de6a-4a70-9df9-d1e313804c39"
      },
      "outputs": [
        {
          "output_type": "stream",
          "name": "stdout",
          "text": [
            "Enter student's name: Vũ\n",
            "Enter the number of courses: 3\n",
            "Enter the grade for course 1: 9\n",
            "Enter the credits for course 1: 2\n",
            "Enter the grade for course 2: 8\n",
            "Enter the credits for course 2: 2\n",
            "Enter the grade for course 3: 8\n",
            "Enter the credits for course 3: 2\n",
            "Vũ's GPA is: 8.33\n"
          ]
        }
      ],
      "source": [
        "def calculate_gpa(grades, credits):\n",
        "    total_credits = sum(credits)\n",
        "\n",
        "    # Calculate the total weight\n",
        "    weighted_sum = 0\n",
        "    for grade, credit in zip(grades, credits):\n",
        "        weighted_sum += grade * credit\n",
        "\n",
        "    # Avoid dividing by zero by using max\n",
        "    gpa = round(weighted_sum / max(total_credits, 1), 2)\n",
        "\n",
        "    return gpa\n",
        "\n",
        "\n",
        "def print_gpa_to_file(student_name, gpa):\n",
        "    # Open the text file to record student information and GPA\n",
        "    with open(\"gpa_results.txt\", \"w\") as file:\n",
        "        file.write(f\"Student Name: {student_name}\\n\")\n",
        "        file.write(f\"GPA: {gpa}\")\n",
        "\n",
        "def get_student_info():\n",
        "    try:\n",
        "        # Import student information from users\n",
        "        while True:\n",
        "            student_name = input(\"Enter student's name: \")\n",
        "\n",
        "            # Check that the name contains only alphabetic characters\n",
        "            if student_name.isalpha():\n",
        "                break\n",
        "            else:\n",
        "                print(\"Error. Invalid name. Please enter a name with alphabetical characters only.\")\n",
        "\n",
        "        # Enter the number of courses, ask to re-enter if it is an invalid number\n",
        "        while True:\n",
        "            num_courses = int(input(\"Enter the number of courses: \"))\n",
        "            if num_courses > 0:\n",
        "                break\n",
        "            else:\n",
        "                print(\"Error. Number of courses must be greater than 0.\")\n",
        "\n",
        "        grades = []\n",
        "        credits = []\n",
        "\n",
        "        # Enter scores and credits for each subject\n",
        "        for i in range(num_courses):\n",
        "            # Enter the score, ask to re-enter if it is a negative number\n",
        "            while True:\n",
        "                grade = float(input(f\"Enter the grade for course {i + 1}: \"))\n",
        "                if grade >= 0:\n",
        "                    break\n",
        "                else:\n",
        "                    print(\"Error. Invalid grade. Please enter a non-negative grade.\")\n",
        "\n",
        "            # Enter credits, ask to re-enter if negative number\n",
        "            while True:\n",
        "                credit = int(input(f\"Enter the credits for course {i + 1}: \"))\n",
        "                if credit >= 0:\n",
        "                    break\n",
        "                else:\n",
        "                    print(\"Error. Invalid credit. Please enter a non-negative credit.\")\n",
        "\n",
        "            grades.append(grade)\n",
        "            credits.append(credit)\n",
        "\n",
        "        return student_name, grades, credits\n",
        "\n",
        "    except ValueError as e:\n",
        "        # Handle errors if the user enters an invalid value\n",
        "        raise ValueError(\"Error. Invalid input\") from e\n",
        "\n",
        "def main():\n",
        "    try:\n",
        "        # Get student information and grades from users\n",
        "        student_name, grades, credits = get_student_info()\n",
        "\n",
        "        # Calculate GPA\n",
        "        gpa = calculate_gpa(grades, credits)\n",
        "\n",
        "        # Print results to the screen\n",
        "        print(f\"{student_name}'s GPA is: {gpa}\")\n",
        "\n",
        "        # Record information into a text file\n",
        "        print_gpa_to_file(student_name, gpa)\n",
        "\n",
        "    except ValueError as e:\n",
        "        # Print to screen if there is an input error\n",
        "        print(f\"Error: {e}\")\n",
        "\n",
        "if __name__ == \"__main__\":\n",
        "    main()\n"
      ]
    },
    {
      "cell_type": "code",
      "source": [],
      "metadata": {
        "id": "bRxQS0hWRAx_"
      },
      "execution_count": null,
      "outputs": []
    }
  ]
}